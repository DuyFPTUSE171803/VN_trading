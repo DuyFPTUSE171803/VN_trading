{
 "cells": [
  {
   "cell_type": "code",
   "execution_count": 1,
   "metadata": {},
   "outputs": [],
   "source": [
    "from datetime import datetime\n",
    "import pandas as pd\n",
    "from statsmodels.tsa.arima.model import ARIMA\n",
    "from pmdarima import auto_arima\n",
    "from vnstock3 import Vnstock\n",
    "import pandas_ta as ta\n",
    "import numpy as np\n",
    "import F "
   ]
  },
  {
   "cell_type": "code",
   "execution_count": 2,
   "metadata": {},
   "outputs": [
    {
     "name": "stderr",
     "output_type": "stream",
     "text": [
      "2024-06-22 16:56:47,953 - vnstock3.common.data.data_explorer - WARNING - Thông tin niêm yết & giao dịch sẽ được truy xuất từ TCBS\n",
      "2024-06-22 16:56:48,297 - vnstock3.common.data.data_explorer - WARNING - Thông tin niêm yết & giao dịch sẽ được truy xuất từ TCBS\n"
     ]
    }
   ],
   "source": [
    "now = datetime.now()\n",
    "current_date = now.strftime(\"%Y-%m-%d\")\n",
    "vn30 = Vnstock().stock(symbol='VN30', source='VCI')\n",
    "df_vn30 = vn30.quote.history(start='2023-08-01', end = current_date, to_df=True)\n",
    "\n",
    "vni = Vnstock().stock(symbol='VNINDEX', source='VCI')\n",
    "df_vni = vni.quote.history(start='2023-08-01', end = current_date, to_df=True)"
   ]
  },
  {
   "cell_type": "code",
   "execution_count": 3,
   "metadata": {},
   "outputs": [],
   "source": [
    "def process_data(data):\n",
    "    data['time'] = pd.to_datetime(data['time'])\n",
    "    data.sort_values(by='time', ascending=True, inplace=True)\n",
    "    data.reset_index()\n",
    "    \n",
    "    data['close'] = pd.to_numeric(data['close'], errors='coerce')\n",
    "    data['sma5'] = ta.sma(data['close'], length=5)\n",
    "    data['sma10'] = ta.sma(data['close'], length=10)\n",
    "\n",
    "    # Thêm chỉ báo EMA\n",
    "    data['ema5'] = ta.ema(data['close'], length=5)\n",
    "    data['ema10'] = ta.ema(data['close'], length=10)\n",
    "\n",
    "    # Thêm chỉ báo RSI\n",
    "    data['rsi'] = ta.rsi(data['close'], length=14)\n",
    "\n",
    "    # Thêm chỉ báo MACD\n",
    "    data.ta.macd(close='close', fast=12, slow=26, signal=9, append=True)\n",
    "\n",
    "    data.dropna(inplace=True)\n",
    "    data.reset_index()\n",
    "    return data"
   ]
  },
  {
   "cell_type": "code",
   "execution_count": 4,
   "metadata": {},
   "outputs": [],
   "source": [
    "data_VN30 = process_data(df_vn30)\n",
    "data_VNI = process_data(df_vni)"
   ]
  },
  {
   "cell_type": "code",
   "execution_count": 5,
   "metadata": {},
   "outputs": [],
   "source": [
    "def model_ARIMA(data):\n",
    "    data = data[['close','sma5','sma10','ema5','ema10','rsi','MACD_12_26_9','MACDh_12_26_9','MACDs_12_26_9']]\n",
    "    stepwise_model = auto_arima(data['close'], trace=True, suppress_warnings=True, stepwise=True)\n",
    "    model = ARIMA(data['close'], order=stepwise_model.order)\n",
    "    model_fit = model.fit()\n",
    "    return model_fit\n",
    "\n",
    "def output_ARIMA(data, trend):\n",
    "    data = data.head(trend)\n",
    "    data_features = data[['close','sma5','sma10','ema5','ema10','rsi','MACD_12_26_9','MACDh_12_26_9','MACDs_12_26_9']]\n",
    "    if data_features.isnull().values.any():\n",
    "        raise ValueError(\"Train data contains NaN values.\")\n",
    "    \n",
    "    model = model_ARIMA(data_features)\n",
    "    next_day_forecast = model.forecast(steps=3)\n",
    "    \n",
    "    return np.mean(next_day_forecast)"
   ]
  },
  {
   "cell_type": "code",
   "execution_count": 6,
   "metadata": {},
   "outputs": [],
   "source": [
    "def test(data, k):\n",
    "    # Ensure the 'Price' column is properly referenced\n",
    "    data_output = data[['time', 'close']].copy()\n",
    "    data_output['position'] = 0\n",
    "\n",
    "    # Calculate predicted price for each row starting from index k\n",
    "    for i in range(k, len(data)):\n",
    "        # Get data for the previous k days to predict the price for the current day\n",
    "        historical_data = data.iloc[i-k:i][['close','sma5','sma10','ema5','ema10','rsi','MACD_12_26_9','MACDh_12_26_9','MACDs_12_26_9']]\n",
    "        \n",
    "        # Assuming output_ARIMA returns the predicted price based on previous data\n",
    "        predicted_price = output_ARIMA(historical_data, k)\n",
    "        \n",
    "        # Calculate the price difference between the last day in the prediction data and the predicted price\n",
    "        price_difference = predicted_price - data.iloc[i-1]['close']  # Make sure 'price' is correctly referenced\n",
    "\n",
    "        # Update position based on calculated price difference\n",
    "        if price_difference > 2:\n",
    "            data_output.loc[i, 'position'] = 1\n",
    "        elif price_difference < 2:\n",
    "            data_output.loc[i, 'position'] = -1\n",
    "    data_output.dropna(inplace = True)\n",
    "    return data_output"
   ]
  },
  {
   "cell_type": "code",
   "execution_count": null,
   "metadata": {},
   "outputs": [],
   "source": [
    "%%capture\n",
    "data_VNI_position = test(data_VNI, 30)\n",
    "data_VN30_position = test(data_VN30, 30)"
   ]
  },
  {
   "cell_type": "code",
   "execution_count": null,
   "metadata": {},
   "outputs": [],
   "source": [
    "backtesting = F.BacktestInformation(data_VN30_position['time'], data_VN30_position['position'], data_VN30_position['close'])\n",
    "backtest = backtesting.Plot_PNL()"
   ]
  },
  {
   "cell_type": "code",
   "execution_count": null,
   "metadata": {},
   "outputs": [],
   "source": [
    "backtesting = F.BacktestInformation(data_VNI_position['time'], data_VNI_position['position'], data_VNI_position['close'])\n",
    "backtest = backtesting.Plot_PNL()"
   ]
  },
  {
   "cell_type": "code",
   "execution_count": null,
   "metadata": {},
   "outputs": [],
   "source": [
    "%%capture\n",
    "data_VNI_position = test(data_VNI, 15)\n",
    "data_VN30_position = test(data_VN30, 15)"
   ]
  },
  {
   "cell_type": "code",
   "execution_count": null,
   "metadata": {},
   "outputs": [],
   "source": [
    "backtesting = F.BacktestInformation(data_VN30_position['time'], data_VN30_position['position'], data_VN30_position['close'])\n",
    "backtest = backtesting.Plot_PNL()"
   ]
  },
  {
   "cell_type": "code",
   "execution_count": null,
   "metadata": {},
   "outputs": [],
   "source": [
    "backtesting = F.BacktestInformation(data_VNI_position['time'], data_VNI_position['position'], data_VNI_position['close'])\n",
    "backtest = backtesting.Plot_PNL()"
   ]
  },
  {
   "cell_type": "code",
   "execution_count": null,
   "metadata": {},
   "outputs": [],
   "source": [
    "%%capture\n",
    "data_VNI_position = test(data_VNI, 7)\n",
    "data_VN30_position = test(data_VN30, 7)"
   ]
  },
  {
   "cell_type": "code",
   "execution_count": null,
   "metadata": {},
   "outputs": [],
   "source": [
    "backtesting = F.BacktestInformation(data_VN30_position['time'], data_VN30_position['position'], data_VN30_position['close'])\n",
    "backtest = backtesting.Plot_PNL()"
   ]
  },
  {
   "cell_type": "code",
   "execution_count": null,
   "metadata": {},
   "outputs": [],
   "source": [
    "backtesting = F.BacktestInformation(data_VNI_position['time'], data_VNI_position['position'], data_VNI_position['close'])\n",
    "backtest = backtesting.Plot_PNL()"
   ]
  },
  {
   "cell_type": "code",
   "execution_count": null,
   "metadata": {},
   "outputs": [],
   "source": [
    "%%capture\n",
    "data_VNI_position = test(data_VNI, 3)\n",
    "data_VN30_position = test(data_VN30, 3)"
   ]
  },
  {
   "cell_type": "code",
   "execution_count": null,
   "metadata": {},
   "outputs": [],
   "source": [
    "backtesting = F.BacktestInformation(data_VN30_position['time'], data_VN30_position['position'], data_VN30_position['close'])\n",
    "backtest = backtesting.Plot_PNL()"
   ]
  },
  {
   "cell_type": "code",
   "execution_count": null,
   "metadata": {},
   "outputs": [],
   "source": [
    "backtesting = F.BacktestInformation(data_VNI_position['time'], data_VNI_position['position'], data_VNI_position['close'])\n",
    "backtest = backtesting.Plot_PNL()"
   ]
  }
 ],
 "metadata": {
  "colab": {
   "provenance": []
  },
  "kernelspec": {
   "display_name": "Python 3 (ipykernel)",
   "language": "python",
   "name": "python3"
  },
  "language_info": {
   "codemirror_mode": {
    "name": "ipython",
    "version": 3
   },
   "file_extension": ".py",
   "mimetype": "text/x-python",
   "name": "python",
   "nbconvert_exporter": "python",
   "pygments_lexer": "ipython3",
   "version": "3.10.11"
  }
 },
 "nbformat": 4,
 "nbformat_minor": 4
}
